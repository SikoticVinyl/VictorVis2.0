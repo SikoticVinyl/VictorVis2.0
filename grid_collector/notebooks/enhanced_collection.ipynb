{
 "cells": [
  {
   "cell_type": "code",
   "execution_count": 1,
   "metadata": {},
   "outputs": [],
   "source": [
    "# Imports and Setup\n",
    "import os\n",
    "import logging\n",
    "import sys\n",
    "from datetime import datetime\n",
    "from dotenv import load_dotenv\n",
    "\n",
    "# Adds project root to Python path\n",
    "project_root = os.path.dirname(os.getcwd())\n",
    "if project_root not in sys.path:\n",
    "    sys.path.append(project_root)\n",
    "\n",
    "# Imports collector\n",
    "from src.collector.enhanced_collector import EnhancedStatsCollector\n",
    "\n",
    "# Configure logging to see output in notebook\n",
    "logging.basicConfig(level=logging.INFO,\n",
    "                   format='%(asctime)s - %(levelname)s - %(message)s')\n"
   ]
  },
  {
   "cell_type": "code",
   "execution_count": 2,
   "metadata": {},
   "outputs": [
    {
     "name": "stderr",
     "output_type": "stream",
     "text": [
      "2024-11-17 02:07:22,225 - src.collector.enhanced_collector - INFO - Created queries directory at c:\\Users\\Chaos\\Desktop\\Repo's\\homework\\VictorVis2.0\\grid_collector\\src\\queries\n",
      "2024-11-17 02:07:22,225 - INFO - Created queries directory at c:\\Users\\Chaos\\Desktop\\Repo's\\homework\\VictorVis2.0\\grid_collector\\src\\queries\n",
      "2024-11-17 02:07:22,227 - src.collector.enhanced_collector - INFO - Created data directory at c:\\Users\\Chaos\\Desktop\\Repo's\\homework\\VictorVis2.0\\grid_collector\\src\\data\n",
      "2024-11-17 02:07:22,227 - INFO - Created data directory at c:\\Users\\Chaos\\Desktop\\Repo's\\homework\\VictorVis2.0\\grid_collector\\src\\data\n"
     ]
    }
   ],
   "source": [
    "# Load .env file\n",
    "load_dotenv()\n",
    "\n",
    "# Get API key from environment variables\n",
    "api_key = os.getenv('GRID_API_KEY')\n",
    "if not api_key:\n",
    "    raise ValueError(\"GRID_API_KEY not found in environment variables\")\n",
    "\n",
    "# Initialize collector\n",
    "collector = EnhancedStatsCollector(api_key)\n"
   ]
  },
  {
   "cell_type": "code",
   "execution_count": 3,
   "metadata": {},
   "outputs": [
    {
     "name": "stdout",
     "output_type": "stream",
     "text": [
      "Current directory: c:\\Users\\Chaos\\Desktop\\Repo's\\homework\\VictorVis2.0\\grid_collector\\notebooks\n",
      "Project root: c:\\Users\\Chaos\\Desktop\\Repo's\\homework\\VictorVis2.0\\grid_collector\n",
      "API Key loaded: Yes\n",
      "Query directory: c:\\Users\\Chaos\\Desktop\\Repo's\\homework\\VictorVis2.0\\grid_collector\\src\\queries\n",
      "Available query files: []\n"
     ]
    }
   ],
   "source": [
    "# Cell 3: Verify Setup\n",
    "print(\"Current directory:\", os.getcwd())\n",
    "print(\"Project root:\", project_root)\n",
    "print(\"API Key loaded:\", \"Yes\" if api_key else \"No\")\n",
    "print(\"Query directory:\", collector.queries_dir)\n",
    "print(\"Available query files:\", os.listdir(collector.queries_dir))"
   ]
  }
 ],
 "metadata": {
  "kernelspec": {
   "display_name": "dev",
   "language": "python",
   "name": "python3"
  },
  "language_info": {
   "codemirror_mode": {
    "name": "ipython",
    "version": 3
   },
   "file_extension": ".py",
   "mimetype": "text/x-python",
   "name": "python",
   "nbconvert_exporter": "python",
   "pygments_lexer": "ipython3",
   "version": "3.10.14"
  }
 },
 "nbformat": 4,
 "nbformat_minor": 2
}
