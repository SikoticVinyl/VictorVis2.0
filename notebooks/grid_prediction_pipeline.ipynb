{
 "cells": [
  {
   "cell_type": "markdown",
   "metadata": {},
   "source": [
    "# Grid.gg Esports Match Prediction Pipeline\n",
    "This notebook implements a machine learning pipeline for predicting esports match outcomes using the Grid.gg API data. The pipeline includes data cleaning, data preprocessing, feature engineering, model training, and evaluation components.\n",
    "\n",
    "## Pipeline Structure\n",
    "The pipeline is organized into the following main sections:\n",
    "1. Data Collection and Cleaning\n",
    "    - Reading in combined_player_stats_20241117_1343.csv\n",
    "    - Handling missing values and outliers\n",
    "\n",
    "2. Feature Engineering\n",
    "\n",
    "3. Model Development and Evaluation\n",
    "Three models will be developed and compared:\n",
    "\n",
    " - Neural Network: Designed for complex pattern recognition in player performance\n",
    " - XGBoost: Proven effectiveness in similar prediction tasks historically with our data and within Shaynes models\n",
    " - [Additional Model TBD]: To be selected based on feature characteristics and data structure\n",
    "\n",
    "4. Model Optimization Possibilities \n",
    "    - Hyperparameter tuning\n",
    "    - Feature importance analysis\n",
    "    - Performance validation\n",
    "    - Cross-validation strategies"
   ]
  },
  {
   "cell_type": "markdown",
   "metadata": {},
   "source": [
    "## Data Cleaning and Preprocessing\n",
    "\n",
    "### Data Loading and Initial Assessment\n",
    "- Loading data from 'combined_player_stats_20241117_1343.csv'\n",
    "- Initial examination of data structure and completeness\n",
    "- Documentation of current data shape and basic statistics\n",
    "\n",
    "### Data Quality Issues to Address\n",
    "\n",
    "1. Known Invalid Records\n",
    "    - Identification and removal of ~55 batches of players with all zero statistics\n",
    "    - Documentation of removed records for future data collection improvement\n",
    "\n",
    "2. Partial Zero Statistics\n",
    "    - Analysis of players with some zero statistics but otherwise valid data\n",
    "    - Determination of valid zero values vs. missing/error data\n",
    "    - Strategy for handling partially complete player records\n",
    "\n",
    "3. Team Information Linking\n",
    "    - Assessment of available team information\n",
    "    - Preparation for linking player statistics with match results\n",
    "    - Identification of any missing team affiliations"
   ]
  },
  {
   "cell_type": "code",
   "execution_count": 1,
   "metadata": {},
   "outputs": [],
   "source": [
    "# Imports\n",
    "import pandas as pd\n",
    "import numpy as np\n",
    "import os\n",
    "import matplotlib.pyplot as plt\n",
    "import seaborn as sns"
   ]
  },
  {
   "cell_type": "code",
   "execution_count": 6,
   "metadata": {},
   "outputs": [],
   "source": [
    "# Set path and read data\n",
    "file_path = '../grid_collector/data/combined_player_stats_20241117_1343.csv'\n",
    "df = pd.read_csv(file_path)"
   ]
  },
  {
   "cell_type": "code",
   "execution_count": 7,
   "metadata": {},
   "outputs": [
    {
     "name": "stdout",
     "output_type": "stream",
     "text": [
      "Dataset Shape: (5452, 7)\n",
      "\n",
      "First few rows of the dataset:\n",
      "   player_id                                  general  \\\n",
      "0       3435  {'series_played': 0, 'games_played': 0}   \n",
      "1       3436  {'series_played': 0, 'games_played': 0}   \n",
      "2       3437  {'series_played': 0, 'games_played': 0}   \n",
      "3       3438  {'series_played': 0, 'games_played': 0}   \n",
      "4       3439  {'series_played': 0, 'games_played': 0}   \n",
      "\n",
      "                                              combat  \\\n",
      "0  {'kills': {'total': 0, 'average': 0.0, 'best':...   \n",
      "1  {'kills': {'total': 0, 'average': 0.0, 'best':...   \n",
      "2  {'kills': {'total': 0, 'average': 0.0, 'best':...   \n",
      "3  {'kills': {'total': 0, 'average': 0.0, 'best':...   \n",
      "4  {'kills': {'total': 0, 'average': 0.0, 'best':...   \n",
      "\n",
      "                                         performance  \\\n",
      "0  {'wins': {'count': 0, 'percentage': 0, 'curren...   \n",
      "1  {'wins': {'count': 0, 'percentage': 0, 'curren...   \n",
      "2  {'wins': {'count': 0, 'percentage': 0, 'curren...   \n",
      "3  {'wins': {'count': 0, 'percentage': 0, 'curren...   \n",
      "4  {'wins': {'count': 0, 'percentage': 0, 'curren...   \n",
      "\n",
      "                                             economy  \\\n",
      "0  {'net_worth': {'average': 0, 'max': 0}, 'inven...   \n",
      "1  {'net_worth': {'average': 0, 'max': 0}, 'inven...   \n",
      "2  {'net_worth': {'average': 0, 'max': 0}, 'inven...   \n",
      "3  {'net_worth': {'average': 0, 'max': 0}, 'inven...   \n",
      "4  {'net_worth': {'average': 0, 'max': 0}, 'inven...   \n",
      "\n",
      "                                            segments progression  \n",
      "0  [{'type': 'round', 'count': 0, 'combat': {'kil...         NaN  \n",
      "1  [{'type': 'round', 'count': 0, 'combat': {'kil...         NaN  \n",
      "2  [{'type': 'round', 'count': 0, 'combat': {'kil...         NaN  \n",
      "3  [{'type': 'round', 'count': 0, 'combat': {'kil...         NaN  \n",
      "4  [{'type': 'round', 'count': 0, 'combat': {'kil...         NaN  \n",
      "\n",
      "Column names:\n",
      "['player_id', 'general', 'combat', 'performance', 'economy', 'segments', 'progression']\n",
      "\n",
      "Basic statistics:\n",
      "           player_id\n",
      "count    5452.000000\n",
      "mean    56773.766875\n",
      "std     50427.007717\n",
      "min      3435.000000\n",
      "25%     10271.500000\n",
      "50%     15789.000000\n",
      "75%    112723.500000\n",
      "max    120827.000000\n",
      "\n",
      "Missing values in each column:\n",
      "player_id         0\n",
      "general           0\n",
      "combat            0\n",
      "performance       0\n",
      "economy           0\n",
      "segments          0\n",
      "progression    4754\n",
      "dtype: int64\n"
     ]
    }
   ],
   "source": [
    "# Display basic information about the dataset\n",
    "print(\"Dataset Shape:\", df.shape)\n",
    "print(\"\\nFirst few rows of the dataset:\")\n",
    "print(df.head())\n",
    "\n",
    "print(\"\\nColumn names:\")\n",
    "print(df.columns.tolist())\n",
    "\n",
    "print(\"\\nBasic statistics:\")\n",
    "print(df.describe())\n",
    "\n",
    "# Check for missing values\n",
    "print(\"\\nMissing values in each column:\")\n",
    "print(df.isnull().sum())\n"
   ]
  }
 ],
 "metadata": {
  "kernelspec": {
   "display_name": "dev",
   "language": "python",
   "name": "python3"
  },
  "language_info": {
   "codemirror_mode": {
    "name": "ipython",
    "version": 3
   },
   "file_extension": ".py",
   "mimetype": "text/x-python",
   "name": "python",
   "nbconvert_exporter": "python",
   "pygments_lexer": "ipython3",
   "version": "3.10.14"
  }
 },
 "nbformat": 4,
 "nbformat_minor": 2
}
