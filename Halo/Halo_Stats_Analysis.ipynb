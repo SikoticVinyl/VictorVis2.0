{
 "cells": [
  {
   "cell_type": "markdown",
   "metadata": {
    "colab_type": "text",
    "id": "view-in-github"
   },
   "source": [
    "<a href=\"https://colab.research.google.com/github/SikoticVinyl/VictorVis2.0/blob/aaron_halo-analytics/Halo_Stats_Analysis.ipynb\" target=\"_parent\"><img src=\"https://colab.research.google.com/assets/colab-badge.svg\" alt=\"Open In Colab\"/></a>"
   ]
  },
  {
   "cell_type": "code",
   "execution_count": null,
   "metadata": {
    "id": "Y3-v5vuzxy8R"
   },
   "outputs": [],
   "source": [
    "#Install Required Packages\n",
    "%%capture\n",
    "!pip install requests pandas matplotlib seaborn python-dotenv"
   ]
  },
  {
   "cell_type": "code",
   "execution_count": null,
   "metadata": {
    "id": "mr7fZY6CyMtx"
   },
   "outputs": [],
   "source": [
    "#Import Libraries\n",
    "import os\n",
    "from datetime import datetime, timedelta\n",
    "import time\n",
    "from pathlib import Path\n",
    "import json\n",
    "import logging\n",
    "from functools import lru_cache\n",
    "import requests\n",
    "import pandas as pd\n",
    "import matplotlib.pyplot as plt\n",
    "import seaborn as sns\n",
    "from google.colab import files"
   ]
  },
  {
   "cell_type": "code",
   "execution_count": null,
   "metadata": {
    "id": "67Pw92IzyNfg"
   },
   "outputs": [],
   "source": [
    "API Key Setup\n",
    "# Create this cell to handle API key securely in Colab\n",
    "from google.colab import userdata\n",
    "#Upload .env file\n",
    "uploaded = files.upload()  # Upload your .env file\n",
    "from dotenv import load_dotenv\n",
    "load_dotenv()"
   ]
  },
  {
   "cell_type": "code",
   "execution_count": null,
   "metadata": {
    "id": "xsjvvfuZyN54"
   },
   "outputs": [],
   "source": [
    "#HaloAPIClient Class Definition\n",
    "class HaloAPIClient:\n",
    "    \"\"\"Client for interacting with the Halo Stats API.\"\"\"\n",
    "\n",
    "    BASE_URL = \"https://www.haloapi.com/stats\"\n",
    "    RATE_LIMIT = 10  # requests per second\n",
    "\n",
    "    def __init__(self, cache_dir: str = \"/content/cache\"):\n",
    "        \"\"\"Initialize the API client.\"\"\"\n",
    "        self.api_key = os.getenv(\"HALO_API_KEY\")\n",
    "        if not self.api_key:\n",
    "            raise ValueError(\"HALO_API_KEY environment variable not set\")\n",
    "\n",
    "        self.session = requests.Session()\n",
    "        self.session.headers.update({\n",
    "            \"Ocp-Apim-Subscription-Key\": self.api_key\n",
    "        })\n",
    "\n",
    "        self.cache_dir = Path(cache_dir)\n",
    "        self.cache_dir.mkdir(exist_ok=True)\n",
    "\n",
    "        self.last_request_time = 0\n",
    "        self.logger = logging.getLogger(__name__)\n",
    "\n",
    "    def _rate_limit(self):\n",
    "        \"\"\"Implement rate limiting.\"\"\"\n",
    "        current_time = time.time()\n",
    "        time_since_last = current_time - self.last_request_time\n",
    "        if time_since_last < (1.0 / self.RATE_LIMIT):\n",
    "            time.sleep((1.0 / self.RATE_LIMIT) - time_since_last)\n",
    "        self.last_request_time = time.time()\n",
    "\n",
    "    def _cached_get(self, endpoint: str, params: dict = None) -> dict:\n",
    "        \"\"\"Make a GET request with caching.\"\"\"\n",
    "        cache_key = f\"{endpoint}_{str(params)}.json\"\n",
    "        cache_file = self.cache_dir / cache_key\n",
    "\n",
    "        if cache_file.exists():\n",
    "            cache_age = time.time() - cache_file.stat().st_mtime\n",
    "            if cache_age < 3600:  # Cache for 1 hour\n",
    "                return json.loads(cache_file.read_text())\n",
    "\n",
    "        self._rate_limit()\n",
    "        response = self.session.get(f\"{self.BASE_URL}{endpoint}\", params=params)\n",
    "        response.raise_for_status()\n",
    "        data = response.json()\n",
    "\n",
    "        cache_file.write_text(json.dumps(data))\n",
    "        return data"
   ]
  },
  {
   "cell_type": "code",
   "execution_count": null,
   "metadata": {
    "id": "1l3cy0sayOKJ"
   },
   "outputs": [],
   "source": [
    "#API Methods\n",
    "def get_match_history(self, player: str, count: int = 25) -> pd.DataFrame:\n",
    "    \"\"\"Get a player's match history.\"\"\"\n",
    "    data = self._cached_get(\n",
    "        f\"/h5/players/{player}/matches\",\n",
    "        params={\"count\": count}\n",
    "    )\n",
    "\n",
    "    matches = []\n",
    "    for match in data.get(\"Results\", []):\n",
    "        match_data = {\n",
    "            \"match_id\": match[\"Id\"][\"MatchId\"],\n",
    "            \"game_mode\": match[\"Id\"][\"GameMode\"],\n",
    "            \"playlist_id\": match.get(\"HopperId\"),\n",
    "            \"map_id\": match[\"MapId\"],\n",
    "            \"duration\": match[\"MatchDuration\"],\n",
    "            \"date\": match[\"MatchCompletedDate\"][\"ISO8601Date\"]\n",
    "        }\n",
    "\n",
    "        player_stats = match[\"Players\"][0]\n",
    "        match_data.update({\n",
    "            \"rank\": player_stats[\"Rank\"],\n",
    "            \"result\": player_stats[\"Result\"],\n",
    "            \"kills\": player_stats.get(\"TotalKills\", 0),\n",
    "            \"deaths\": player_stats.get(\"TotalDeaths\", 0),\n",
    "            \"assists\": player_stats.get(\"TotalAssists\", 0)\n",
    "        })\n",
    "\n",
    "        matches.append(match_data)\n",
    "\n",
    "    return pd.DataFrame(matches)\n",
    "\n",
    "def get_service_record(self, player: str) -> dict:\n",
    "    \"\"\"Get a player's arena service record.\"\"\"\n",
    "    data = self._cached_get(\n",
    "        \"/h5/servicerecords/arena\",\n",
    "        params={\"players\": player}\n",
    "    )\n",
    "    return data[\"Results\"][0][\"Result\"]\n",
    "\n",
    "def get_match_details(self, match_id: str) -> dict:\n",
    "    \"\"\"Get detailed stats for a specific match.\"\"\"\n",
    "    return self._cached_get(f\"/h5/arena/matches/{match_id}\")"
   ]
  },
  {
   "cell_type": "code",
   "execution_count": null,
   "metadata": {
    "id": "Ep7VjPzyyObw"
   },
   "outputs": [],
   "source": [
    "#Analysis Methods\n",
    "def analyze_player_performance(self, player: str, matches: int = 50) -> pd.DataFrame:\n",
    "    \"\"\"Analyze a player's performance trends.\"\"\"\n",
    "    match_history = self.get_match_history(player, matches)\n",
    "\n",
    "    match_history[\"kd_ratio\"] = match_history[\"kills\"] / match_history[\"deaths\"]\n",
    "    match_history[\"kda_ratio\"] = (match_history[\"kills\"] + match_history[\"assists\"]) / match_history[\"deaths\"]\n",
    "    match_history[\"date\"] = pd.to_datetime(match_history[\"date\"])\n",
    "\n",
    "    match_history[\"kd_rolling_avg\"] = match_history[\"kd_ratio\"].rolling(window=5).mean()\n",
    "    match_history[\"kills_rolling_avg\"] = match_history[\"kills\"].rolling(window=5).mean()\n",
    "\n",
    "    return match_history\n",
    "\n",
    "def plot_performance_trends(self, player: str, metric: str = \"kd_ratio\"):\n",
    "    \"\"\"Plot performance trends for a player.\"\"\"\n",
    "    performance = self.analyze_player_performance(player)\n",
    "\n",
    "    plt.figure(figsize=(12, 6))\n",
    "    sns.set_style(\"darkgrid\")\n",
    "\n",
    "    sns.lineplot(data=performance, x=\"date\", y=metric)\n",
    "\n",
    "    rolling_col = f\"{metric}_rolling_avg\"\n",
    "    if rolling_col in performance.columns:\n",
    "        sns.lineplot(data=performance, x=\"date\", y=rolling_col, color=\"red\", label=\"5-game average\")\n",
    "\n",
    "    plt.title(f\"{player} - {metric.replace('_', ' ').title()} Over Time\")\n",
    "    plt.xticks(rotation=45)\n",
    "    plt.tight_layout()\n",
    "\n",
    "    return plt"
   ]
  },
  {
   "cell_type": "code",
   "execution_count": null,
   "metadata": {
    "id": "bK6yBlc_yOqh"
   },
   "outputs": [],
   "source": [
    "#HaloStatsAnalyzer Class\n",
    "class HaloStatsAnalyzer:\n",
    "    \"\"\"Helper class for analyzing Halo stats.\"\"\"\n",
    "\n",
    "    def __init__(self, api_client: HaloAPIClient):\n",
    "        \"\"\"Initialize the analyzer.\"\"\"\n",
    "        self.client = api_client\n",
    "\n",
    "    def compare_players(self, players: list[str], metric: str = \"kd_ratio\") -> pd.DataFrame:\n",
    "        \"\"\"Compare stats between multiple players.\"\"\"\n",
    "        all_stats = []\n",
    "\n",
    "        for player in players:\n",
    "            stats = self.client.analyze_player_performance(player)\n",
    "            stats[\"player\"] = player\n",
    "            all_stats.append(stats)\n",
    "\n",
    "        return pd.concat(all_stats)\n",
    "\n",
    "    def plot_player_comparison(self, players: list[str], metric: str = \"kd_ratio\"):\n",
    "        \"\"\"Create a visualization comparing players.\"\"\"\n",
    "        comparison_data = self.compare_players(players, metric)\n",
    "\n",
    "        plt.figure(figsize=(12, 6))\n",
    "        sns.boxplot(data=comparison_data, x=\"player\", y=metric)\n",
    "        plt.title(f\"Player Comparison - {metric.replace('_', ' ').title()}\")\n",
    "        plt.xticks(rotation=45)\n",
    "        plt.tight_layout()\n",
    "\n",
    "        return plt"
   ]
  },
  {
   "cell_type": "code",
   "execution_count": null,
   "metadata": {
    "id": "BmsB3EPEzSl8"
   },
   "outputs": [],
   "source": [
    "#Usage Example\n",
    "# Initialize the client\n",
    "client = HaloAPIClient()\n",
    "\n",
    "# Example usage - replace with actual gamertag\n",
    "PLAYER_GAMERTAG = \"YourGamertag\"  # Replace with actual gamertag\n",
    "\n",
    "# Get match history\n",
    "matches = client.get_match_history(PLAYER_GAMERTAG)\n",
    "print(\"Recent Matches:\")\n",
    "display(matches.head())\n",
    "\n",
    "# Analyze performance\n",
    "performance = client.analyze_player_performance(PLAYER_GAMERTAG)\n",
    "print(\"\\nPerformance Analysis:\")\n",
    "display(performance.describe())\n",
    "\n",
    "# Create visualization\n",
    "plt = client.plot_performance_trends(PLAYER_GAMERTAG)\n",
    "plt.show()"
   ]
  },
  {
   "cell_type": "code",
   "execution_count": null,
   "metadata": {
    "id": "FolLJPHIzdO7"
   },
   "outputs": [],
   "source": [
    "Player Comparison Example\n",
    "# Initialize analyzer\n",
    "analyzer = HaloStatsAnalyzer(client)\n",
    "\n",
    "# Compare multiple players\n",
    "PLAYERS = [\"Player1\", \"Player2\", \"Player3\"]  # Replace with actual gamertags\n",
    "comparison = analyzer.compare_players(PLAYERS)\n",
    "print(\"Player Comparison:\")\n",
    "display(comparison.groupby(\"player\").mean())\n",
    "\n",
    "# Create comparison visualization\n",
    "plt = analyzer.plot_player_comparison(PLAYERS)\n",
    "plt.show()"
   ]
  }
 ],
 "metadata": {
  "colab": {
   "authorship_tag": "ABX9TyOa1IQ7DQ1qjFL6whvvCshU",
   "include_colab_link": true,
   "provenance": []
  },
  "kernelspec": {
   "display_name": "Python 3",
   "name": "python3"
  },
  "language_info": {
   "name": "python"
  }
 },
 "nbformat": 4,
 "nbformat_minor": 0
}
